{
 "cells": [
  {
   "cell_type": "markdown",
   "metadata": {},
   "source": [
    "### Daily Coding Problem #4 [HARD]"
   ]
  },
  {
   "cell_type": "markdown",
   "metadata": {},
   "source": [
    " This problem was asked by Stripe.\n",
    "\n",
    "Given an array of integers, find the first missing positive integer in linear time and constant space. In other words, find the lowest positive integer that does not exist in the array. The array can contain duplicates and negative numbers as well.\n",
    "\n",
    "For example, the input ```[3, 4, -1, 1]``` should give ```2```. The input ```[1, 2, 0]``` should give ```3```.\n",
    "\n",
    "You can modify the input array in-place."
   ]
  },
  {
   "cell_type": "code",
   "execution_count": 21,
   "metadata": {},
   "outputs": [],
   "source": [
    "def find_missing_integer(num_list):\n",
    "    i = 1 #i will track what integer we are checking. \n",
    "    check = False #check tracks wherer we have found the lowest missing positive integer\n",
    "\n",
    "    #first, remove all negative numbers and zero from the list\n",
    "    for num in num_list:\n",
    "        if num <= 0:\n",
    "            num_list.remove(num)\n",
    "    \n",
    "    #While we haven't found the missing integer, keep checking if i is in the list\n",
    "    while check == False:\n",
    "        if i not in num_list: #if i is not in the list, check = ztrue, and the loop breaks\n",
    "            check = True\n",
    "        else: #if i is in the list, increase i by 1\n",
    "            i += 1\n",
    "    print(f'The first missing positive integer in the given array is {i}') #i is the first missing positive integer\n",
    "    \n",
    "    "
   ]
  },
  {
   "cell_type": "markdown",
   "metadata": {},
   "source": [
    "### Test case #1 \n",
    "\n",
    "Input: ```[3,4,-1,1]```\n",
    "\n",
    "Expectd output: ```2```"
   ]
  },
  {
   "cell_type": "code",
   "execution_count": 22,
   "metadata": {},
   "outputs": [
    {
     "name": "stdout",
     "output_type": "stream",
     "text": [
      "The first missing positive integer in the given array is 2\n"
     ]
    }
   ],
   "source": [
    "array = [3,4,-1,1]\n",
    "\n",
    "find_missing_integer(array)"
   ]
  },
  {
   "cell_type": "markdown",
   "metadata": {},
   "source": [
    "### Test case #2 \n",
    "\n",
    "Input: ```[1,2,0]```\n",
    "\n",
    "Expectd output: ```3```"
   ]
  },
  {
   "cell_type": "code",
   "execution_count": 23,
   "metadata": {},
   "outputs": [
    {
     "name": "stdout",
     "output_type": "stream",
     "text": [
      "The first missing positive integer in the given array is 3\n"
     ]
    }
   ],
   "source": [
    "array = [1,2,0]\n",
    "\n",
    "find_missing_integer(array)"
   ]
  },
  {
   "cell_type": "markdown",
   "metadata": {},
   "source": [
    "### Test case #3 \n",
    "\n",
    "Input: ```[-5,-6,-7,11,4,4,8,2,3,1,2,0]```\n",
    "\n",
    "Expectd output: ```5```"
   ]
  },
  {
   "cell_type": "code",
   "execution_count": 24,
   "metadata": {},
   "outputs": [
    {
     "name": "stdout",
     "output_type": "stream",
     "text": [
      "The first missing positive integer in the given array is 5\n"
     ]
    }
   ],
   "source": [
    "array = [-5,-6,-7,11,4,4,8,2,3,1,2,0]\n",
    "\n",
    "find_missing_integer(array)"
   ]
  }
 ],
 "metadata": {
  "interpreter": {
   "hash": "aee8b7b246df8f9039afb4144a1f6fd8d2ca17a180786b69acc140d282b71a49"
  },
  "kernelspec": {
   "display_name": "Python 3.10.4 64-bit",
   "language": "python",
   "name": "python3"
  },
  "language_info": {
   "codemirror_mode": {
    "name": "ipython",
    "version": 3
   },
   "file_extension": ".py",
   "mimetype": "text/x-python",
   "name": "python",
   "nbconvert_exporter": "python",
   "pygments_lexer": "ipython3",
   "version": "3.10.4"
  },
  "orig_nbformat": 4
 },
 "nbformat": 4,
 "nbformat_minor": 2
}
