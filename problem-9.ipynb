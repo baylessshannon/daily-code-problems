{
 "cells": [
  {
   "cell_type": "markdown",
   "metadata": {},
   "source": [
    "### Daily Coding Problem #9 [Hard]"
   ]
  },
  {
   "cell_type": "markdown",
   "metadata": {},
   "source": [
    " This problem was asked by Airbnb.\n",
    "\n",
    "Given a list of integers, write a function that returns the largest sum of non-adjacent numbers. Numbers can be 0 or negative.\n",
    "\n",
    "For example, ```[2, 4, 6, 2, 5]``` should return ```13```, since we pick ```2```, ```6```, and ```5```. `[5, 1, 1, 5]` should return `10`, since we pick `5` and `5`.\n",
    "\n",
    "Follow-up: Can you do this in O(N) time and constant space?"
   ]
  },
  {
   "cell_type": "code",
   "execution_count": 541,
   "metadata": {},
   "outputs": [],
   "source": [
    "def add_non_adjacent(num_list):\n",
    "    add_current = 0 #max for adding the current number\n",
    "    not_add_current = 0 #max if not adding the current number\n",
    "    for num in num_list:\n",
    "\n",
    "        #we want to track the max sum, so we want to know if we result in a large sum\n",
    "        #from adding the previous number, or form the number before that\n",
    "        #This will become our new not_add_current after this iteration\n",
    "        new_not_add_current = max(add_current, not_add_current)\n",
    "\n",
    "        #we know that not_add_current is the max sum if the previous number was not used\n",
    "        #so we would be safe to use the current number\n",
    "        # adding the current number would result in a max sum of not_add_current + num\n",
    "        add_current = not_add_current + num\n",
    "\n",
    "        #sum if you don't use the current number\n",
    "        #this also tracks\n",
    "        not_add_current = new_not_add_current\n",
    "\n",
    "        #adding print statements to help understanding\n",
    "        print(f'num = {num}')\n",
    "        print(f'If you use {num}, the sum is {add_current}')\n",
    "        print(f'If you dont use {num}, the sum is {not_add_current}')\n",
    "\n",
    "    max_sum = max(add_current, not_add_current) #do we want to use the last number or not\n",
    "    return max_sum"
   ]
  },
  {
   "cell_type": "code",
   "execution_count": 542,
   "metadata": {},
   "outputs": [
    {
     "name": "stdout",
     "output_type": "stream",
     "text": [
      "num = 2\n",
      "If you use 2, the sum is 2\n",
      "If you dont use 2, the sum is 0\n",
      "num = 4\n",
      "If you use 4, the sum is 4\n",
      "If you dont use 4, the sum is 2\n",
      "num = 6\n",
      "If you use 6, the sum is 8\n",
      "If you dont use 6, the sum is 4\n",
      "num = 2\n",
      "If you use 2, the sum is 6\n",
      "If you dont use 2, the sum is 8\n",
      "num = 5\n",
      "If you use 5, the sum is 13\n",
      "If you dont use 5, the sum is 8\n"
     ]
    },
    {
     "data": {
      "text/plain": [
       "13"
      ]
     },
     "execution_count": 542,
     "metadata": {},
     "output_type": "execute_result"
    }
   ],
   "source": [
    "#Test 1\n",
    "#Expected result: 13\n",
    "num_list = [2,4,6,2,5]\n",
    "\n",
    "add_non_adjacent(num_list)"
   ]
  },
  {
   "cell_type": "code",
   "execution_count": 543,
   "metadata": {},
   "outputs": [
    {
     "name": "stdout",
     "output_type": "stream",
     "text": [
      "num = 5\n",
      "If you use 5, the sum is 5\n",
      "If you dont use 5, the sum is 0\n",
      "num = 1\n",
      "If you use 1, the sum is 1\n",
      "If you dont use 1, the sum is 5\n",
      "num = 1\n",
      "If you use 1, the sum is 6\n",
      "If you dont use 1, the sum is 5\n",
      "num = 5\n",
      "If you use 5, the sum is 10\n",
      "If you dont use 5, the sum is 6\n"
     ]
    },
    {
     "data": {
      "text/plain": [
       "10"
      ]
     },
     "execution_count": 543,
     "metadata": {},
     "output_type": "execute_result"
    }
   ],
   "source": [
    "#Test 2\n",
    "#Expected result: 10\n",
    "num_list = [5,1,1,5]\n",
    "\n",
    "add_non_adjacent(num_list)"
   ]
  },
  {
   "cell_type": "code",
   "execution_count": 544,
   "metadata": {},
   "outputs": [
    {
     "name": "stdout",
     "output_type": "stream",
     "text": [
      "num = -5\n",
      "If you use -5, the sum is -5\n",
      "If you dont use -5, the sum is 0\n",
      "num = -1\n",
      "If you use -1, the sum is -1\n",
      "If you dont use -1, the sum is 0\n",
      "num = 1\n",
      "If you use 1, the sum is 1\n",
      "If you dont use 1, the sum is 0\n",
      "num = 5\n",
      "If you use 5, the sum is 5\n",
      "If you dont use 5, the sum is 1\n"
     ]
    },
    {
     "data": {
      "text/plain": [
       "5"
      ]
     },
     "execution_count": 544,
     "metadata": {},
     "output_type": "execute_result"
    }
   ],
   "source": [
    "#Test 2\n",
    "#Expected result: 5\n",
    "num_list = [-5,-1,1,5]\n",
    "\n",
    "add_non_adjacent(num_list)"
   ]
  },
  {
   "cell_type": "code",
   "execution_count": 545,
   "metadata": {},
   "outputs": [
    {
     "name": "stdout",
     "output_type": "stream",
     "text": [
      "num = -2\n",
      "If you use -2, the sum is -2\n",
      "If you dont use -2, the sum is 0\n",
      "num = -4\n",
      "If you use -4, the sum is -4\n",
      "If you dont use -4, the sum is 0\n",
      "num = 6\n",
      "If you use 6, the sum is 6\n",
      "If you dont use 6, the sum is 0\n",
      "num = -2\n",
      "If you use -2, the sum is -2\n",
      "If you dont use -2, the sum is 6\n",
      "num = 5\n",
      "If you use 5, the sum is 11\n",
      "If you dont use 5, the sum is 6\n"
     ]
    },
    {
     "data": {
      "text/plain": [
       "11"
      ]
     },
     "execution_count": 545,
     "metadata": {},
     "output_type": "execute_result"
    }
   ],
   "source": [
    "#Test 3\n",
    "#Expected result: 11\n",
    "num_list = [-2,-4,6,-2,5]\n",
    "\n",
    "add_non_adjacent(num_list)"
   ]
  },
  {
   "cell_type": "code",
   "execution_count": 546,
   "metadata": {},
   "outputs": [
    {
     "name": "stdout",
     "output_type": "stream",
     "text": [
      "num = -2\n",
      "If you use -2, the sum is -2\n",
      "If you dont use -2, the sum is 0\n",
      "num = -4\n",
      "If you use -4, the sum is -4\n",
      "If you dont use -4, the sum is 0\n",
      "num = -6\n",
      "If you use -6, the sum is -6\n",
      "If you dont use -6, the sum is 0\n",
      "num = -2\n",
      "If you use -2, the sum is -2\n",
      "If you dont use -2, the sum is 0\n",
      "num = -5\n",
      "If you use -5, the sum is -5\n",
      "If you dont use -5, the sum is 0\n"
     ]
    },
    {
     "data": {
      "text/plain": [
       "0"
      ]
     },
     "execution_count": 546,
     "metadata": {},
     "output_type": "execute_result"
    }
   ],
   "source": [
    "#Test 4\n",
    "#Expected result: 0\n",
    "num_list = [-2,-4,-6,-2,-5]\n",
    "\n",
    "add_non_adjacent(num_list)"
   ]
  }
 ],
 "metadata": {
  "interpreter": {
   "hash": "aee8b7b246df8f9039afb4144a1f6fd8d2ca17a180786b69acc140d282b71a49"
  },
  "kernelspec": {
   "display_name": "Python 3.10.4 64-bit",
   "language": "python",
   "name": "python3"
  },
  "language_info": {
   "codemirror_mode": {
    "name": "ipython",
    "version": 3
   },
   "file_extension": ".py",
   "mimetype": "text/x-python",
   "name": "python",
   "nbconvert_exporter": "python",
   "pygments_lexer": "ipython3",
   "version": "3.10.4"
  },
  "orig_nbformat": 4
 },
 "nbformat": 4,
 "nbformat_minor": 2
}
