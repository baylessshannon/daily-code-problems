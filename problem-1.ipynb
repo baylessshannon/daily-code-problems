{
 "cells": [
  {
   "cell_type": "markdown",
   "metadata": {},
   "source": [
    "### Daily Coding Problem #1 [Easy]"
   ]
  },
  {
   "cell_type": "markdown",
   "metadata": {},
   "source": [
    "Per the Daily Coding Problem email:\n",
    "\n",
    "This problem was recently asked by Google.\n",
    "\n",
    "Given a list of numbers and a number k, return whether any two numbers from the list add up to k.\n",
    "\n",
    "For example, given [10, 15, 3, 7] and k of 17, return true since 10 + 7 is 17."
   ]
  },
  {
   "cell_type": "code",
   "execution_count": 1,
   "metadata": {},
   "outputs": [],
   "source": [
    "#imports\n",
    "import random\n",
    "from itertools import combinations"
   ]
  },
  {
   "cell_type": "markdown",
   "metadata": {},
   "source": [
    "### First, let's work through the scenario given in the prompt. "
   ]
  },
  {
   "cell_type": "markdown",
   "metadata": {},
   "source": [
    "Let's define a function ```add_list``` that will see if any two numbers in our list will add to $k$"
   ]
  },
  {
   "cell_type": "code",
   "execution_count": 2,
   "metadata": {},
   "outputs": [],
   "source": [
    "def add_list(num_list,k):\n",
    "    adds_to_k = 0 #a list to track whether we 2 numbers add up to k\n",
    "    for i in num_list:\n",
    "        for j in num_list: #checking every combination of 2 numbers in the list\n",
    "            if i + j == k:\n",
    "                adds_to_k += 1 #If the combination adds to k, append True to checks\n",
    "    if adds_to_k > 0:\n",
    "        print(True)\n",
    "    else:\n",
    "        print(False)"
   ]
  },
  {
   "cell_type": "code",
   "execution_count": 3,
   "metadata": {},
   "outputs": [
    {
     "name": "stdout",
     "output_type": "stream",
     "text": [
      "True\n"
     ]
    }
   ],
   "source": [
    "num_list = [10,15,3,7]\n",
    "k = 17\n",
    "\n",
    "add_list(num_list,k)"
   ]
  },
  {
   "cell_type": "markdown",
   "metadata": {},
   "source": [
    "Just to check if the code really works, let's pass a list that would return false."
   ]
  },
  {
   "cell_type": "code",
   "execution_count": 4,
   "metadata": {},
   "outputs": [
    {
     "name": "stdout",
     "output_type": "stream",
     "text": [
      "False\n"
     ]
    }
   ],
   "source": [
    "num_list = [10,15,3,8]\n",
    "k = 17\n",
    "\n",
    "add_list(num_list,k)"
   ]
  },
  {
   "cell_type": "markdown",
   "metadata": {},
   "source": [
    "Let's enhance our add_list function to tell us what values add up to k. We will call out new function ```add_list_print_result```"
   ]
  },
  {
   "cell_type": "code",
   "execution_count": 5,
   "metadata": {},
   "outputs": [],
   "source": [
    "# defining function add_list_print_result, which is the sama as add_list, but it also prints\n",
    "# what combinations add to k\n",
    "\n",
    "def add_list_print_result(num_list,k):\n",
    "    print(f'The list of numbers is {num_list}')\n",
    "    print(f'k is {k}')\n",
    "    adds_to_k = 0\n",
    "    for i in num_list:\n",
    "        for j in num_list:\n",
    "            if i + j == k:\n",
    "                adds_to_k +=1\n",
    "                print(f'{i} + {j} = {k}') #if true, print i+j=k\n",
    "    if adds_to_k > 0:\n",
    "        print(True)\n",
    "    else:\n",
    "        print(False)"
   ]
  },
  {
   "cell_type": "code",
   "execution_count": 6,
   "metadata": {},
   "outputs": [
    {
     "name": "stdout",
     "output_type": "stream",
     "text": [
      "The list of numbers is [10, 15, 3, 7]\n",
      "k is 17\n",
      "10 + 7 = 17\n",
      "7 + 10 = 17\n",
      "True\n"
     ]
    }
   ],
   "source": [
    "#Testing add_list_print_result\n",
    "num_list = [10,15,3,7]\n",
    "k= 17\n",
    "\n",
    "add_list_print_result(num_list,k)"
   ]
  },
  {
   "cell_type": "markdown",
   "metadata": {},
   "source": [
    "Our current function considers 7+10 to be different from 10+7. Lets wrine a new function ```add_list_unique`` to only account for unique pairs"
   ]
  },
  {
   "cell_type": "code",
   "execution_count": 7,
   "metadata": {},
   "outputs": [],
   "source": [
    "# defining function add_list_print_result, which is the sama as add_list, but it also prints\n",
    "# what combinations add to k\n",
    "\n",
    "def add_list_unique(num_list,k):\n",
    "    print(f'The list of numbers is {num_list}')\n",
    "    print(f'k is {k}')\n",
    "    adds_to_k = 0\n",
    "    unique = []\n",
    "    for i in num_list:\n",
    "        for j in num_list:\n",
    "            if set((i,j)) not in unique: #If the set hasn't already been checked\n",
    "                unique.append(set((i,j)))\n",
    "                if i + j == k:\n",
    "                        adds_to_k += 1\n",
    "                        print(f'{i} + {j} = {k}') #if true, print i+j=k\n",
    "    if adds_to_k > 0:\n",
    "        print(True)\n",
    "    else:\n",
    "        print(False)"
   ]
  },
  {
   "cell_type": "code",
   "execution_count": 8,
   "metadata": {},
   "outputs": [
    {
     "name": "stdout",
     "output_type": "stream",
     "text": [
      "The list of numbers is [10, 15, 3, 7]\n",
      "k is 17\n",
      "10 + 7 = 17\n",
      "True\n"
     ]
    }
   ],
   "source": [
    "#Testing add_list_print_result\n",
    "num_list = [10,15,3,7]\n",
    "k= 17\n",
    "\n",
    "add_list_unique(num_list,k)"
   ]
  },
  {
   "cell_type": "markdown",
   "metadata": {},
   "source": [
    "### A Simpler Solution"
   ]
  },
  {
   "cell_type": "markdown",
   "metadata": {},
   "source": [
    "If $i+j=k$, then $k-j=i$. Let's build a function that uses this logic instead"
   ]
  },
  {
   "cell_type": "code",
   "execution_count": 9,
   "metadata": {},
   "outputs": [],
   "source": [
    "def simple_check(num_list, k):\n",
    "    check = False\n",
    "    i = 0\n",
    "    while check == False and i < len(num_list):\n",
    "        for number in num_list:\n",
    "            if (k-number in num_list) and (k-number != number):\n",
    "                check = True\n",
    "            i += 1\n",
    "\n",
    "    print(check)"
   ]
  },
  {
   "cell_type": "code",
   "execution_count": 10,
   "metadata": {},
   "outputs": [
    {
     "name": "stdout",
     "output_type": "stream",
     "text": [
      "True\n"
     ]
    }
   ],
   "source": [
    "#Testing add_list_print_result\n",
    "num_list = [10,15,3,7]\n",
    "k= 17\n",
    "\n",
    "simple_check(num_list,k)"
   ]
  },
  {
   "cell_type": "markdown",
   "metadata": {},
   "source": [
    "### Expansion 1 : Adding more than 2 numbers"
   ]
  },
  {
   "cell_type": "markdown",
   "metadata": {},
   "source": [
    "Let's write a function ```get_combos``` to get all possible unique combinations on numbers in the list."
   ]
  },
  {
   "cell_type": "code",
   "execution_count": 11,
   "metadata": {},
   "outputs": [],
   "source": [
    "# Defining get_combos which gets a list of all possible combinations of numbers in the list\n",
    "\n",
    "def get_combos(num_list):\n",
    "    combos = []\n",
    "    for r in range(2,len(num_list)): \n",
    "        combos.append(list(combinations(num_list, r))) #finding combinations of length r\n",
    "    combos_list = [item for sublist in combos for item in sublist] #make list of lists into a single list\n",
    "    return combos_list\n"
   ]
  },
  {
   "cell_type": "code",
   "execution_count": 12,
   "metadata": {},
   "outputs": [
    {
     "name": "stdout",
     "output_type": "stream",
     "text": [
      "[(10, 15), (10, 3), (10, 7), (15, 3), (15, 7), (3, 7), (10, 15, 3), (10, 15, 7), (10, 3, 7), (15, 3, 7)]\n"
     ]
    }
   ],
   "source": [
    "#Testing get_combos\n",
    "\n",
    "combos = get_combos([10,15,3,7])\n",
    "print(combos)"
   ]
  },
  {
   "cell_type": "markdown",
   "metadata": {},
   "source": [
    "Lets modify our ```add_list_print_result``` function to check every combination instead of iterating through items in out original list of numbers"
   ]
  },
  {
   "cell_type": "code",
   "execution_count": 13,
   "metadata": {},
   "outputs": [],
   "source": [
    "def add_list_combos(num_list,k):\n",
    "    print(f'The list of numbers is {num_list}')\n",
    "    print(f'k is {k}')\n",
    "    adds_to_k = 0\n",
    "    combos = get_combos(num_list) #getting all combinations in the list of numbers\n",
    "    for i in combos:\n",
    "        if sum(i) == k:\n",
    "            adds_to_k += 1\n",
    "            result = ''                  #Fixing print statements so they make more sense\n",
    "            for number in i:\n",
    "                result+=(f'{number} + ')\n",
    "            print(f'{result[:-3]} = {k}')\n",
    "    if adds_to_k > 0:\n",
    "        print(True)\n",
    "    else:\n",
    "        print(False)"
   ]
  },
  {
   "cell_type": "code",
   "execution_count": 14,
   "metadata": {},
   "outputs": [
    {
     "name": "stdout",
     "output_type": "stream",
     "text": [
      "The list of numbers is [10, 15, 3, 7]\n",
      "k is 17\n",
      "10 + 7 = 17\n",
      "True\n"
     ]
    }
   ],
   "source": [
    "num_list = [10,15,3,7]\n",
    "k= 17\n",
    "\n",
    "add_list_combos(num_list,k)"
   ]
  },
  {
   "cell_type": "markdown",
   "metadata": {},
   "source": [
    "As the list gets longer, there will be too many combinations to print out. Let's define ```add_list_num_combos``` to print out the number of combinations in a list that add up to $k$."
   ]
  },
  {
   "cell_type": "code",
   "execution_count": 15,
   "metadata": {},
   "outputs": [],
   "source": [
    "def add_list_num_combos(num_list,k):\n",
    "    print(f'The list of numbers is {num_list}')\n",
    "    print(f'k is {k}')\n",
    "    adds_to_k = 0\n",
    "    combos = get_combos(num_list)\n",
    "    for i in combos:\n",
    "        if sum(i) == k:\n",
    "            adds_to_k += 1\n",
    "    if adds_to_k == 0: #if there are 0 combinations, print false\n",
    "        print(False)\n",
    "    elif adds_to_k == 1:\n",
    "        print(True) #if there are more than 0 combinations, print true\n",
    "        print(f'There is {adds_to_k} combination of numbers in the list that add up to {k}')\n",
    "    else: #Correcting for grammar when ther is 1 combination\n",
    "        print(True)\n",
    "        print(f'There is {adds_to_k} combination of numbers in the list that add up to {k}')\n",
    "        "
   ]
  },
  {
   "cell_type": "code",
   "execution_count": 16,
   "metadata": {},
   "outputs": [
    {
     "name": "stdout",
     "output_type": "stream",
     "text": [
      "The list of numbers is [10, 15, 3, 7]\n",
      "k is 17\n",
      "True\n",
      "There is 1 combination of numbers in the list that add up to 17\n"
     ]
    }
   ],
   "source": [
    "num_list = [10,15,3,7]\n",
    "k= 17\n",
    "\n",
    "add_list_num_combos(num_list,k)"
   ]
  },
  {
   "cell_type": "markdown",
   "metadata": {},
   "source": [
    "### Expansion 2: Generating a random list and $k$ value"
   ]
  },
  {
   "cell_type": "markdown",
   "metadata": {},
   "source": [
    "Great! Now let's try with a random and longer list. We'll write a function called ```get_list``` to generate our list."
   ]
  },
  {
   "cell_type": "code",
   "execution_count": 17,
   "metadata": {},
   "outputs": [],
   "source": [
    "# get_list generates and returns a random list of numbers. It takes parameters \n",
    "# length(length of the list), min_val (min value in the list), and\n",
    "# max_val (max value in the list)\n",
    "\n",
    "def get_list(length,min_val,max_val):\n",
    "    random_list = random.sample(range(min_val, max_val), length)\n",
    "\n",
    "    return random_list\n",
    "    "
   ]
  },
  {
   "cell_type": "markdown",
   "metadata": {},
   "source": [
    "Let's make a function called ```get_k``` to generate a k value. If $x$ is the maximum value in the list and $l$ is the length of the list, then $k_{max}= x + (x-1) + (x-2)...(x-(l-1))$"
   ]
  },
  {
   "cell_type": "code",
   "execution_count": 18,
   "metadata": {},
   "outputs": [],
   "source": [
    "def get_k(num_list):\n",
    "    min_val = min(num_list)\n",
    "    min_k = min_val+ (min_val + 1)\n",
    "    max_val = max(num_list)\n",
    "    max_list = [max_val-i for i in range(len(num_list))]\n",
    "    max_k = sum(max_list)\n",
    "    k = random.randint(min_k,max_k)\n",
    "    return k"
   ]
  },
  {
   "cell_type": "code",
   "execution_count": 19,
   "metadata": {},
   "outputs": [
    {
     "name": "stdout",
     "output_type": "stream",
     "text": [
      "The list of numbers is [14, 24, 29, 43, 25, 23, 18, 0, 9, 34]\n",
      "k is 148\n",
      "True\n",
      "There is 6 combination of numbers in the list that add up to 148\n"
     ]
    }
   ],
   "source": [
    "num_list = get_list(10,0,50)\n",
    "k = get_k(num_list)\n",
    "\n",
    "add_list_num_combos(num_list,k)"
   ]
  },
  {
   "cell_type": "markdown",
   "metadata": {},
   "source": [
    "Finally, let's put all of the code in the above cell into one function called ```check_random_list```"
   ]
  },
  {
   "cell_type": "code",
   "execution_count": 20,
   "metadata": {},
   "outputs": [],
   "source": [
    "def check_random_list(length,min_val,max_val):\n",
    "    num_list = get_list(length,min_val,max_val)\n",
    "    k = get_k(num_list)\n",
    "    add_list_num_combos(num_list,k)\n"
   ]
  },
  {
   "cell_type": "code",
   "execution_count": 21,
   "metadata": {},
   "outputs": [
    {
     "name": "stdout",
     "output_type": "stream",
     "text": [
      "The list of numbers is [3, 37, 9, 15, 27, 28, 20, 18, 16, 33]\n",
      "k is 98\n",
      "True\n",
      "There is 12 combination of numbers in the list that add up to 98\n"
     ]
    }
   ],
   "source": [
    "check_random_list(10,0,50)"
   ]
  },
  {
   "cell_type": "markdown",
   "metadata": {},
   "source": [
    "This could be expanded to also generate a random length, maximum value and minimum value."
   ]
  }
 ],
 "metadata": {
  "interpreter": {
   "hash": "aee8b7b246df8f9039afb4144a1f6fd8d2ca17a180786b69acc140d282b71a49"
  },
  "kernelspec": {
   "display_name": "Python 3.10.4 64-bit",
   "language": "python",
   "name": "python3"
  },
  "language_info": {
   "codemirror_mode": {
    "name": "ipython",
    "version": 3
   },
   "file_extension": ".py",
   "mimetype": "text/x-python",
   "name": "python",
   "nbconvert_exporter": "python",
   "pygments_lexer": "ipython3",
   "version": "3.10.4"
  },
  "orig_nbformat": 4
 },
 "nbformat": 4,
 "nbformat_minor": 2
}
